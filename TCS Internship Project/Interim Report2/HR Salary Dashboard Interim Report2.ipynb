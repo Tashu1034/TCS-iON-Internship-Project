{
 "cells": [
  {
   "cell_type": "markdown",
   "id": "6b222edc",
   "metadata": {},
   "source": [
    "# HR Salary Prediction "
   ]
  },
  {
   "cell_type": "markdown",
   "id": "3adacf5b",
   "metadata": {},
   "source": [
    "### Importing Libraries / Dependencies"
   ]
  },
  {
   "cell_type": "code",
   "execution_count": 508,
   "id": "00b09900",
   "metadata": {},
   "outputs": [],
   "source": [
    "import numpy as np\n",
    "import pandas as pd\n",
    "import matplotlib.pyplot as plt\n",
    "import seaborn as sns"
   ]
  },
  {
   "cell_type": "markdown",
   "id": "1186da2a",
   "metadata": {},
   "source": [
    "### Importing Dataset"
   ]
  },
  {
   "cell_type": "code",
   "execution_count": 509,
   "id": "237dec45",
   "metadata": {},
   "outputs": [],
   "source": [
    "df = pd.read_csv(r'C:\\Users\\DELL\\Downloads\\hr_salary_prediction\\hr.csv')"
   ]
  },
  {
   "cell_type": "code",
   "execution_count": 510,
   "id": "678c8bff",
   "metadata": {},
   "outputs": [
    {
     "data": {
      "text/html": [
       "<div>\n",
       "<style scoped>\n",
       "    .dataframe tbody tr th:only-of-type {\n",
       "        vertical-align: middle;\n",
       "    }\n",
       "\n",
       "    .dataframe tbody tr th {\n",
       "        vertical-align: top;\n",
       "    }\n",
       "\n",
       "    .dataframe thead th {\n",
       "        text-align: right;\n",
       "    }\n",
       "</style>\n",
       "<table border=\"1\" class=\"dataframe\">\n",
       "  <thead>\n",
       "    <tr style=\"text-align: right;\">\n",
       "      <th></th>\n",
       "      <th>name</th>\n",
       "      <th>age</th>\n",
       "      <th>years_of_experience</th>\n",
       "      <th>current_salary</th>\n",
       "    </tr>\n",
       "  </thead>\n",
       "  <tbody>\n",
       "    <tr>\n",
       "      <th>0</th>\n",
       "      <td>Jacob</td>\n",
       "      <td>21</td>\n",
       "      <td>1</td>\n",
       "      <td>12500</td>\n",
       "    </tr>\n",
       "    <tr>\n",
       "      <th>1</th>\n",
       "      <td>Michael</td>\n",
       "      <td>22</td>\n",
       "      <td>2</td>\n",
       "      <td>15700</td>\n",
       "    </tr>\n",
       "    <tr>\n",
       "      <th>2</th>\n",
       "      <td>Matthew</td>\n",
       "      <td>22</td>\n",
       "      <td>1</td>\n",
       "      <td>10000</td>\n",
       "    </tr>\n",
       "    <tr>\n",
       "      <th>3</th>\n",
       "      <td>Joshua</td>\n",
       "      <td>21</td>\n",
       "      <td>1</td>\n",
       "      <td>10022</td>\n",
       "    </tr>\n",
       "    <tr>\n",
       "      <th>4</th>\n",
       "      <td>Christopher</td>\n",
       "      <td>23</td>\n",
       "      <td>2</td>\n",
       "      <td>15000</td>\n",
       "    </tr>\n",
       "  </tbody>\n",
       "</table>\n",
       "</div>"
      ],
      "text/plain": [
       "          name  age  years_of_experience  current_salary\n",
       "0        Jacob   21                    1           12500\n",
       "1      Michael   22                    2           15700\n",
       "2      Matthew   22                    1           10000\n",
       "3       Joshua   21                    1           10022\n",
       "4  Christopher   23                    2           15000"
      ]
     },
     "execution_count": 510,
     "metadata": {},
     "output_type": "execute_result"
    }
   ],
   "source": [
    "df.head()"
   ]
  },
  {
   "cell_type": "markdown",
   "id": "af0a668b",
   "metadata": {},
   "source": [
    "### Data Analysis"
   ]
  },
  {
   "cell_type": "code",
   "execution_count": 511,
   "id": "a9f7ef7b",
   "metadata": {},
   "outputs": [
    {
     "data": {
      "text/plain": [
       "(316, 4)"
      ]
     },
     "execution_count": 511,
     "metadata": {},
     "output_type": "execute_result"
    }
   ],
   "source": [
    "df.shape"
   ]
  },
  {
   "cell_type": "markdown",
   "id": "b5354bed",
   "metadata": {},
   "source": [
    "There are 315 rows and 5 columns in the HR dataset"
   ]
  },
  {
   "cell_type": "code",
   "execution_count": 512,
   "id": "3a7aea20",
   "metadata": {},
   "outputs": [
    {
     "data": {
      "text/plain": [
       "name                   0\n",
       "age                    0\n",
       "years_of_experience    0\n",
       "current_salary         0\n",
       "dtype: int64"
      ]
     },
     "execution_count": 512,
     "metadata": {},
     "output_type": "execute_result"
    }
   ],
   "source": [
    "# Checking for null values\n",
    "df.isnull().sum()"
   ]
  },
  {
   "cell_type": "code",
   "execution_count": 513,
   "id": "09944f35",
   "metadata": {},
   "outputs": [
    {
     "data": {
      "text/html": [
       "<div>\n",
       "<style scoped>\n",
       "    .dataframe tbody tr th:only-of-type {\n",
       "        vertical-align: middle;\n",
       "    }\n",
       "\n",
       "    .dataframe tbody tr th {\n",
       "        vertical-align: top;\n",
       "    }\n",
       "\n",
       "    .dataframe thead th {\n",
       "        text-align: right;\n",
       "    }\n",
       "</style>\n",
       "<table border=\"1\" class=\"dataframe\">\n",
       "  <thead>\n",
       "    <tr style=\"text-align: right;\">\n",
       "      <th></th>\n",
       "      <th>age</th>\n",
       "      <th>years_of_experience</th>\n",
       "      <th>current_salary</th>\n",
       "    </tr>\n",
       "  </thead>\n",
       "  <tbody>\n",
       "    <tr>\n",
       "      <th>count</th>\n",
       "      <td>316.000000</td>\n",
       "      <td>316.000000</td>\n",
       "      <td>316.000000</td>\n",
       "    </tr>\n",
       "    <tr>\n",
       "      <th>mean</th>\n",
       "      <td>30.465190</td>\n",
       "      <td>6.952532</td>\n",
       "      <td>25263.848101</td>\n",
       "    </tr>\n",
       "    <tr>\n",
       "      <th>std</th>\n",
       "      <td>7.140454</td>\n",
       "      <td>6.042781</td>\n",
       "      <td>12327.650797</td>\n",
       "    </tr>\n",
       "    <tr>\n",
       "      <th>min</th>\n",
       "      <td>21.000000</td>\n",
       "      <td>1.000000</td>\n",
       "      <td>6500.000000</td>\n",
       "    </tr>\n",
       "    <tr>\n",
       "      <th>25%</th>\n",
       "      <td>24.750000</td>\n",
       "      <td>3.000000</td>\n",
       "      <td>15850.000000</td>\n",
       "    </tr>\n",
       "    <tr>\n",
       "      <th>50%</th>\n",
       "      <td>29.000000</td>\n",
       "      <td>5.000000</td>\n",
       "      <td>24000.000000</td>\n",
       "    </tr>\n",
       "    <tr>\n",
       "      <th>75%</th>\n",
       "      <td>35.000000</td>\n",
       "      <td>9.000000</td>\n",
       "      <td>30700.000000</td>\n",
       "    </tr>\n",
       "    <tr>\n",
       "      <th>max</th>\n",
       "      <td>50.000000</td>\n",
       "      <td>29.000000</td>\n",
       "      <td>90000.000000</td>\n",
       "    </tr>\n",
       "  </tbody>\n",
       "</table>\n",
       "</div>"
      ],
      "text/plain": [
       "              age  years_of_experience  current_salary\n",
       "count  316.000000           316.000000      316.000000\n",
       "mean    30.465190             6.952532    25263.848101\n",
       "std      7.140454             6.042781    12327.650797\n",
       "min     21.000000             1.000000     6500.000000\n",
       "25%     24.750000             3.000000    15850.000000\n",
       "50%     29.000000             5.000000    24000.000000\n",
       "75%     35.000000             9.000000    30700.000000\n",
       "max     50.000000            29.000000    90000.000000"
      ]
     },
     "execution_count": 513,
     "metadata": {},
     "output_type": "execute_result"
    }
   ],
   "source": [
    "df.describe()"
   ]
  },
  {
   "cell_type": "code",
   "execution_count": 514,
   "id": "ed31d1d5",
   "metadata": {},
   "outputs": [
    {
     "name": "stdout",
     "output_type": "stream",
     "text": [
      "<class 'pandas.core.frame.DataFrame'>\n",
      "RangeIndex: 316 entries, 0 to 315\n",
      "Data columns (total 4 columns):\n",
      " #   Column               Non-Null Count  Dtype \n",
      "---  ------               --------------  ----- \n",
      " 0   name                 316 non-null    object\n",
      " 1   age                  316 non-null    int64 \n",
      " 2   years_of_experience  316 non-null    int64 \n",
      " 3   current_salary       316 non-null    int64 \n",
      "dtypes: int64(3), object(1)\n",
      "memory usage: 10.0+ KB\n"
     ]
    }
   ],
   "source": [
    "df.info()"
   ]
  },
  {
   "cell_type": "markdown",
   "id": "29c97510",
   "metadata": {},
   "source": [
    "### Data Visualization"
   ]
  },
  {
   "cell_type": "code",
   "execution_count": 515,
   "id": "8c9b8562",
   "metadata": {},
   "outputs": [
    {
     "name": "stderr",
     "output_type": "stream",
     "text": [
      "C:\\Users\\DELL\\AppData\\Local\\Temp\\ipykernel_2876\\695122566.py:2: UserWarning: \n",
      "\n",
      "`distplot` is a deprecated function and will be removed in seaborn v0.14.0.\n",
      "\n",
      "Please adapt your code to use either `displot` (a figure-level function with\n",
      "similar flexibility) or `histplot` (an axes-level function for histograms).\n",
      "\n",
      "For a guide to updating your code to use the new functions, please see\n",
      "https://gist.github.com/mwaskom/de44147ed2974457ad6372750bbe5751\n",
      "\n",
      "  sns.distplot(df['age'])\n"
     ]
    },
    {
     "data": {
      "image/png": "[encoded data removed]",
      "text/plain": [
       "<Figure size 600x600 with 1 Axes>"
      ]
     },
     "metadata": {},
     "output_type": "display_data"
    }
   ],
   "source": [
    "plt.figure(figsize = (6,6))\n",
    "sns.distplot(df['age'])\n",
    "plt.show()"
   ]
  },
  {
   "cell_type": "code",
   "execution_count": 516,
   "id": "b8d1a092",
   "metadata": {},
   "outputs": [
    {
     "data": {
      "text/plain": [
       "<AxesSubplot: xlabel='years_of_experience', ylabel='count'>"
      ]
     },
     "execution_count": 516,
     "metadata": {},
     "output_type": "execute_result"
    },
    {
     "data": {
      "image/png": "[encoded data removed]",
      "text/plain": [
       "<Figure size 600x600 with 1 Axes>"
      ]
     },
     "metadata": {},
     "output_type": "display_data"
    }
   ],
   "source": [
    "plt.figure(figsize = (6,6))\n",
    "sns.countplot(x='years_of_experience' ,data=df)"
   ]
  },
  {
   "cell_type": "markdown",
   "id": "e6b9dc71",
   "metadata": {},
   "source": [
    "plt.figure(figsize = (6,6))\n",
    "sns.countplot(x='gender' ,data=df)"
   ]
  },
  {
   "cell_type": "code",
   "execution_count": 517,
   "id": "8bcdd86b",
   "metadata": {},
   "outputs": [
    {
     "data": {
      "text/plain": [
       "<AxesSubplot: >"
      ]
     },
     "execution_count": 517,
     "metadata": {},
     "output_type": "execute_result"
    },
    {
     "data": {
      "image/png": "[encoded data removed]",
      "text/plain": [
       "<Figure size 640x480 with 1 Axes>"
      ]
     },
     "metadata": {},
     "output_type": "display_data"
    }
   ],
   "source": [
    "sns.boxplot( df['age'] )"
   ]
  },
  {
   "cell_type": "code",
   "execution_count": 518,
   "id": "584e0819",
   "metadata": {},
   "outputs": [
    {
     "data": {
      "text/plain": [
       "<AxesSubplot: xlabel='years_of_experience', ylabel='age'>"
      ]
     },
     "execution_count": 518,
     "metadata": {},
     "output_type": "execute_result"
    },
    {
     "data": {
      "image/png": "[encoded data removed]",
      "text/plain": [
       "<Figure size 640x480 with 1 Axes>"
      ]
     },
     "metadata": {},
     "output_type": "display_data"
    }
   ],
   "source": [
    "sns.barplot(x =\"years_of_experience\", y =\"age\", data = df)"
   ]
  },
  {
   "cell_type": "markdown",
   "id": "073164fc",
   "metadata": {},
   "source": [
    "sns.barplot(x =\"gender\", y =\"current_salary\", data = df)"
   ]
  },
  {
   "cell_type": "code",
   "execution_count": 519,
   "id": "c0956f28",
   "metadata": {},
   "outputs": [
    {
     "data": {
      "text/plain": [
       "<AxesSubplot: xlabel='age', ylabel='current_salary'>"
      ]
     },
     "execution_count": 519,
     "metadata": {},
     "output_type": "execute_result"
    },
    {
     "data": {
      "image/png": "[encoded data removed]",
      "text/plain": [
       "<Figure size 640x480 with 1 Axes>"
      ]
     },
     "metadata": {},
     "output_type": "display_data"
    }
   ],
   "source": [
    "sns.barplot(x =\"age\", y =\"current_salary\", data = df)"
   ]
  },
  {
   "cell_type": "code",
   "execution_count": 520,
   "id": "743bb00a",
   "metadata": {},
   "outputs": [
    {
     "data": {
      "text/plain": [
       "<AxesSubplot: xlabel='years_of_experience', ylabel='current_salary'>"
      ]
     },
     "execution_count": 520,
     "metadata": {},
     "output_type": "execute_result"
    },
    {
     "data": {
      "image/png": "[encoded data removed]",
      "text/plain": [
       "<Figure size 640x480 with 1 Axes>"
      ]
     },
     "metadata": {},
     "output_type": "display_data"
    }
   ],
   "source": [
    "sns.barplot(x =\"years_of_experience\", y =\"current_salary\", data = df)"
   ]
  },
  {
   "cell_type": "code",
   "execution_count": 521,
   "id": "75bd8fdf",
   "metadata": {},
   "outputs": [
    {
     "name": "stderr",
     "output_type": "stream",
     "text": [
      "C:\\Users\\DELL\\AppData\\Local\\Temp\\ipykernel_2876\\4080866019.py:2: FutureWarning: The default value of numeric_only in DataFrame.corr is deprecated. In a future version, it will default to False. Select only valid columns or specify the value of numeric_only to silence this warning.\n",
      "  corr = df.corr()\n"
     ]
    },
    {
     "data": {
      "image/png": "[encoded data removed]",
      "text/plain": [
       "<Figure size 1000x500 with 2 Axes>"
      ]
     },
     "metadata": {},
     "output_type": "display_data"
    }
   ],
   "source": [
    "plt.figure(figsize=(10,5))\n",
    "corr = df.corr()\n",
    "sns.heatmap(corr,annot=True)\n",
    "plt.show()"
   ]
  },
  {
   "cell_type": "markdown",
   "id": "f73faa12",
   "metadata": {},
   "source": [
    "## Preprocessing Task before Model Building"
   ]
  },
  {
   "cell_type": "markdown",
   "id": "3ffcf285",
   "metadata": {},
   "source": [
    "### Selecting features based on general requirements"
   ]
  },
  {
   "cell_type": "code",
   "execution_count": 522,
   "id": "0bbff418",
   "metadata": {},
   "outputs": [],
   "source": [
    "df.drop(['name'],axis=1,inplace=True)"
   ]
  },
  {
   "cell_type": "code",
   "execution_count": 523,
   "id": "c76e766b",
   "metadata": {},
   "outputs": [
    {
     "data": {
      "text/html": [
       "<div>\n",
       "<style scoped>\n",
       "    .dataframe tbody tr th:only-of-type {\n",
       "        vertical-align: middle;\n",
       "    }\n",
       "\n",
       "    .dataframe tbody tr th {\n",
       "        vertical-align: top;\n",
       "    }\n",
       "\n",
       "    .dataframe thead th {\n",
       "        text-align: right;\n",
       "    }\n",
       "</style>\n",
       "<table border=\"1\" class=\"dataframe\">\n",
       "  <thead>\n",
       "    <tr style=\"text-align: right;\">\n",
       "      <th></th>\n",
       "      <th>age</th>\n",
       "      <th>years_of_experience</th>\n",
       "      <th>current_salary</th>\n",
       "    </tr>\n",
       "  </thead>\n",
       "  <tbody>\n",
       "    <tr>\n",
       "      <th>0</th>\n",
       "      <td>21</td>\n",
       "      <td>1</td>\n",
       "      <td>12500</td>\n",
       "    </tr>\n",
       "    <tr>\n",
       "      <th>1</th>\n",
       "      <td>22</td>\n",
       "      <td>2</td>\n",
       "      <td>15700</td>\n",
       "    </tr>\n",
       "    <tr>\n",
       "      <th>2</th>\n",
       "      <td>22</td>\n",
       "      <td>1</td>\n",
       "      <td>10000</td>\n",
       "    </tr>\n",
       "    <tr>\n",
       "      <th>3</th>\n",
       "      <td>21</td>\n",
       "      <td>1</td>\n",
       "      <td>10022</td>\n",
       "    </tr>\n",
       "    <tr>\n",
       "      <th>4</th>\n",
       "      <td>23</td>\n",
       "      <td>2</td>\n",
       "      <td>15000</td>\n",
       "    </tr>\n",
       "  </tbody>\n",
       "</table>\n",
       "</div>"
      ],
      "text/plain": [
       "   age  years_of_experience  current_salary\n",
       "0   21                    1           12500\n",
       "1   22                    2           15700\n",
       "2   22                    1           10000\n",
       "3   21                    1           10022\n",
       "4   23                    2           15000"
      ]
     },
     "execution_count": 523,
     "metadata": {},
     "output_type": "execute_result"
    }
   ],
   "source": [
    "df.head()"
   ]
  },
  {
   "cell_type": "markdown",
   "id": "18926dbb",
   "metadata": {},
   "source": [
    "### Splitting features and target"
   ]
  },
  {
   "cell_type": "code",
   "execution_count": 535,
   "id": "97419723",
   "metadata": {},
   "outputs": [],
   "source": [
    "features=['age','years_of_experience']\n",
    "X = pd.DataFrame(df,columns=features)\n",
    "y = pd.DataFrame(df,columns=['current_salary'])"
   ]
  },
  {
   "cell_type": "code",
   "execution_count": 524,
   "id": "6733c9ca",
   "metadata": {},
   "outputs": [],
   "source": [
    "X = df.drop(columns = ['age','current_salary'],axis=1)  # features\n",
    "y = df['current_salary']  # target"
   ]
  },
  {
   "cell_type": "code",
   "execution_count": 536,
   "id": "8537acd7",
   "metadata": {},
   "outputs": [
    {
     "name": "stdout",
     "output_type": "stream",
     "text": [
      "     age  years_of_experience\n",
      "0     21                    1\n",
      "1     22                    2\n",
      "2     22                    1\n",
      "3     21                    1\n",
      "4     23                    2\n",
      "..   ...                  ...\n",
      "311   29                    8\n",
      "312   24                    2\n",
      "313   29                    8\n",
      "314   23                    1\n",
      "315   41                   15\n",
      "\n",
      "[316 rows x 2 columns]\n"
     ]
    }
   ],
   "source": [
    "print(X)"
   ]
  },
  {
   "cell_type": "code",
   "execution_count": 537,
   "id": "272179dd",
   "metadata": {},
   "outputs": [
    {
     "name": "stdout",
     "output_type": "stream",
     "text": [
      "     current_salary\n",
      "0             12500\n",
      "1             15700\n",
      "2             10000\n",
      "3             10022\n",
      "4             15000\n",
      "..              ...\n",
      "311           25000\n",
      "312           15000\n",
      "313           36700\n",
      "314           12500\n",
      "315           32000\n",
      "\n",
      "[316 rows x 1 columns]\n"
     ]
    }
   ],
   "source": [
    "print(y)"
   ]
  },
  {
   "cell_type": "markdown",
   "id": "7f4f8f39",
   "metadata": {},
   "source": [
    "### Splitting the data into training data and testing data"
   ]
  },
  {
   "cell_type": "code",
   "execution_count": 538,
   "id": "b3779f70",
   "metadata": {},
   "outputs": [],
   "source": [
    "from sklearn.model_selection import train_test_split"
   ]
  },
  {
   "cell_type": "code",
   "execution_count": 633,
   "id": "7af54c6a",
   "metadata": {},
   "outputs": [],
   "source": [
    "X_train, X_test, y_train, y_test = train_test_split(X, y,test_size=0.2,random_state=2)"
   ]
  },
  {
   "cell_type": "code",
   "execution_count": 634,
   "id": "1f05744c",
   "metadata": {},
   "outputs": [
    {
     "data": {
      "text/html": [
       "<div>\n",
       "<style scoped>\n",
       "    .dataframe tbody tr th:only-of-type {\n",
       "        vertical-align: middle;\n",
       "    }\n",
       "\n",
       "    .dataframe tbody tr th {\n",
       "        vertical-align: top;\n",
       "    }\n",
       "\n",
       "    .dataframe thead th {\n",
       "        text-align: right;\n",
       "    }\n",
       "</style>\n",
       "<table border=\"1\" class=\"dataframe\">\n",
       "  <thead>\n",
       "    <tr style=\"text-align: right;\">\n",
       "      <th></th>\n",
       "      <th>age</th>\n",
       "      <th>years_of_experience</th>\n",
       "    </tr>\n",
       "  </thead>\n",
       "  <tbody>\n",
       "    <tr>\n",
       "      <th>134</th>\n",
       "      <td>23</td>\n",
       "      <td>1</td>\n",
       "    </tr>\n",
       "    <tr>\n",
       "      <th>166</th>\n",
       "      <td>26</td>\n",
       "      <td>3</td>\n",
       "    </tr>\n",
       "    <tr>\n",
       "      <th>2</th>\n",
       "      <td>22</td>\n",
       "      <td>1</td>\n",
       "    </tr>\n",
       "    <tr>\n",
       "      <th>141</th>\n",
       "      <td>38</td>\n",
       "      <td>13</td>\n",
       "    </tr>\n",
       "    <tr>\n",
       "      <th>77</th>\n",
       "      <td>25</td>\n",
       "      <td>3</td>\n",
       "    </tr>\n",
       "    <tr>\n",
       "      <th>...</th>\n",
       "      <td>...</td>\n",
       "      <td>...</td>\n",
       "    </tr>\n",
       "    <tr>\n",
       "      <th>299</th>\n",
       "      <td>33</td>\n",
       "      <td>8</td>\n",
       "    </tr>\n",
       "    <tr>\n",
       "      <th>22</th>\n",
       "      <td>31</td>\n",
       "      <td>6</td>\n",
       "    </tr>\n",
       "    <tr>\n",
       "      <th>72</th>\n",
       "      <td>28</td>\n",
       "      <td>3</td>\n",
       "    </tr>\n",
       "    <tr>\n",
       "      <th>15</th>\n",
       "      <td>28</td>\n",
       "      <td>6</td>\n",
       "    </tr>\n",
       "    <tr>\n",
       "      <th>168</th>\n",
       "      <td>27</td>\n",
       "      <td>4</td>\n",
       "    </tr>\n",
       "  </tbody>\n",
       "</table>\n",
       "<p>252 rows × 2 columns</p>\n",
       "</div>"
      ],
      "text/plain": [
       "     age  years_of_experience\n",
       "134   23                    1\n",
       "166   26                    3\n",
       "2     22                    1\n",
       "141   38                   13\n",
       "77    25                    3\n",
       "..   ...                  ...\n",
       "299   33                    8\n",
       "22    31                    6\n",
       "72    28                    3\n",
       "15    28                    6\n",
       "168   27                    4\n",
       "\n",
       "[252 rows x 2 columns]"
      ]
     },
     "execution_count": 634,
     "metadata": {},
     "output_type": "execute_result"
    }
   ],
   "source": [
    "X_train"
   ]
  },
  {
   "cell_type": "code",
   "execution_count": 635,
   "id": "3c6d4f97",
   "metadata": {},
   "outputs": [
    {
     "data": {
      "text/html": [
       "<div>\n",
       "<style scoped>\n",
       "    .dataframe tbody tr th:only-of-type {\n",
       "        vertical-align: middle;\n",
       "    }\n",
       "\n",
       "    .dataframe tbody tr th {\n",
       "        vertical-align: top;\n",
       "    }\n",
       "\n",
       "    .dataframe thead th {\n",
       "        text-align: right;\n",
       "    }\n",
       "</style>\n",
       "<table border=\"1\" class=\"dataframe\">\n",
       "  <thead>\n",
       "    <tr style=\"text-align: right;\">\n",
       "      <th></th>\n",
       "      <th>current_salary</th>\n",
       "    </tr>\n",
       "  </thead>\n",
       "  <tbody>\n",
       "    <tr>\n",
       "      <th>134</th>\n",
       "      <td>12000</td>\n",
       "    </tr>\n",
       "    <tr>\n",
       "      <th>166</th>\n",
       "      <td>15000</td>\n",
       "    </tr>\n",
       "    <tr>\n",
       "      <th>2</th>\n",
       "      <td>10000</td>\n",
       "    </tr>\n",
       "    <tr>\n",
       "      <th>141</th>\n",
       "      <td>32500</td>\n",
       "    </tr>\n",
       "    <tr>\n",
       "      <th>77</th>\n",
       "      <td>16000</td>\n",
       "    </tr>\n",
       "    <tr>\n",
       "      <th>...</th>\n",
       "      <td>...</td>\n",
       "    </tr>\n",
       "    <tr>\n",
       "      <th>299</th>\n",
       "      <td>21000</td>\n",
       "    </tr>\n",
       "    <tr>\n",
       "      <th>22</th>\n",
       "      <td>30000</td>\n",
       "    </tr>\n",
       "    <tr>\n",
       "      <th>72</th>\n",
       "      <td>25000</td>\n",
       "    </tr>\n",
       "    <tr>\n",
       "      <th>15</th>\n",
       "      <td>30000</td>\n",
       "    </tr>\n",
       "    <tr>\n",
       "      <th>168</th>\n",
       "      <td>26000</td>\n",
       "    </tr>\n",
       "  </tbody>\n",
       "</table>\n",
       "<p>252 rows × 1 columns</p>\n",
       "</div>"
      ],
      "text/plain": [
       "     current_salary\n",
       "134           12000\n",
       "166           15000\n",
       "2             10000\n",
       "141           32500\n",
       "77            16000\n",
       "..              ...\n",
       "299           21000\n",
       "22            30000\n",
       "72            25000\n",
       "15            30000\n",
       "168           26000\n",
       "\n",
       "[252 rows x 1 columns]"
      ]
     },
     "execution_count": 635,
     "metadata": {},
     "output_type": "execute_result"
    }
   ],
   "source": [
    "y_train"
   ]
  },
  {
   "cell_type": "code",
   "execution_count": 636,
   "id": "fe3661f1",
   "metadata": {},
   "outputs": [
    {
     "data": {
      "text/html": [
       "<div>\n",
       "<style scoped>\n",
       "    .dataframe tbody tr th:only-of-type {\n",
       "        vertical-align: middle;\n",
       "    }\n",
       "\n",
       "    .dataframe tbody tr th {\n",
       "        vertical-align: top;\n",
       "    }\n",
       "\n",
       "    .dataframe thead th {\n",
       "        text-align: right;\n",
       "    }\n",
       "</style>\n",
       "<table border=\"1\" class=\"dataframe\">\n",
       "  <thead>\n",
       "    <tr style=\"text-align: right;\">\n",
       "      <th></th>\n",
       "      <th>age</th>\n",
       "      <th>years_of_experience</th>\n",
       "    </tr>\n",
       "  </thead>\n",
       "  <tbody>\n",
       "    <tr>\n",
       "      <th>250</th>\n",
       "      <td>22</td>\n",
       "      <td>1</td>\n",
       "    </tr>\n",
       "    <tr>\n",
       "      <th>188</th>\n",
       "      <td>29</td>\n",
       "      <td>5</td>\n",
       "    </tr>\n",
       "    <tr>\n",
       "      <th>7</th>\n",
       "      <td>24</td>\n",
       "      <td>3</td>\n",
       "    </tr>\n",
       "    <tr>\n",
       "      <th>189</th>\n",
       "      <td>24</td>\n",
       "      <td>2</td>\n",
       "    </tr>\n",
       "    <tr>\n",
       "      <th>203</th>\n",
       "      <td>23</td>\n",
       "      <td>1</td>\n",
       "    </tr>\n",
       "    <tr>\n",
       "      <th>...</th>\n",
       "      <td>...</td>\n",
       "      <td>...</td>\n",
       "    </tr>\n",
       "    <tr>\n",
       "      <th>140</th>\n",
       "      <td>29</td>\n",
       "      <td>7</td>\n",
       "    </tr>\n",
       "    <tr>\n",
       "      <th>127</th>\n",
       "      <td>48</td>\n",
       "      <td>13</td>\n",
       "    </tr>\n",
       "    <tr>\n",
       "      <th>179</th>\n",
       "      <td>26</td>\n",
       "      <td>3</td>\n",
       "    </tr>\n",
       "    <tr>\n",
       "      <th>183</th>\n",
       "      <td>35</td>\n",
       "      <td>6</td>\n",
       "    </tr>\n",
       "    <tr>\n",
       "      <th>223</th>\n",
       "      <td>24</td>\n",
       "      <td>2</td>\n",
       "    </tr>\n",
       "  </tbody>\n",
       "</table>\n",
       "<p>64 rows × 2 columns</p>\n",
       "</div>"
      ],
      "text/plain": [
       "     age  years_of_experience\n",
       "250   22                    1\n",
       "188   29                    5\n",
       "7     24                    3\n",
       "189   24                    2\n",
       "203   23                    1\n",
       "..   ...                  ...\n",
       "140   29                    7\n",
       "127   48                   13\n",
       "179   26                    3\n",
       "183   35                    6\n",
       "223   24                    2\n",
       "\n",
       "[64 rows x 2 columns]"
      ]
     },
     "execution_count": 636,
     "metadata": {},
     "output_type": "execute_result"
    }
   ],
   "source": [
    "X_test"
   ]
  },
  {
   "cell_type": "code",
   "execution_count": 637,
   "id": "8da1ef27",
   "metadata": {},
   "outputs": [
    {
     "data": {
      "text/html": [
       "<div>\n",
       "<style scoped>\n",
       "    .dataframe tbody tr th:only-of-type {\n",
       "        vertical-align: middle;\n",
       "    }\n",
       "\n",
       "    .dataframe tbody tr th {\n",
       "        vertical-align: top;\n",
       "    }\n",
       "\n",
       "    .dataframe thead th {\n",
       "        text-align: right;\n",
       "    }\n",
       "</style>\n",
       "<table border=\"1\" class=\"dataframe\">\n",
       "  <thead>\n",
       "    <tr style=\"text-align: right;\">\n",
       "      <th></th>\n",
       "      <th>current_salary</th>\n",
       "    </tr>\n",
       "  </thead>\n",
       "  <tbody>\n",
       "    <tr>\n",
       "      <th>250</th>\n",
       "      <td>11000</td>\n",
       "    </tr>\n",
       "    <tr>\n",
       "      <th>188</th>\n",
       "      <td>22000</td>\n",
       "    </tr>\n",
       "    <tr>\n",
       "      <th>7</th>\n",
       "      <td>21000</td>\n",
       "    </tr>\n",
       "    <tr>\n",
       "      <th>189</th>\n",
       "      <td>15000</td>\n",
       "    </tr>\n",
       "    <tr>\n",
       "      <th>203</th>\n",
       "      <td>9000</td>\n",
       "    </tr>\n",
       "    <tr>\n",
       "      <th>...</th>\n",
       "      <td>...</td>\n",
       "    </tr>\n",
       "    <tr>\n",
       "      <th>140</th>\n",
       "      <td>25800</td>\n",
       "    </tr>\n",
       "    <tr>\n",
       "      <th>127</th>\n",
       "      <td>44000</td>\n",
       "    </tr>\n",
       "    <tr>\n",
       "      <th>179</th>\n",
       "      <td>15000</td>\n",
       "    </tr>\n",
       "    <tr>\n",
       "      <th>183</th>\n",
       "      <td>22000</td>\n",
       "    </tr>\n",
       "    <tr>\n",
       "      <th>223</th>\n",
       "      <td>19000</td>\n",
       "    </tr>\n",
       "  </tbody>\n",
       "</table>\n",
       "<p>64 rows × 1 columns</p>\n",
       "</div>"
      ],
      "text/plain": [
       "     current_salary\n",
       "250           11000\n",
       "188           22000\n",
       "7             21000\n",
       "189           15000\n",
       "203            9000\n",
       "..              ...\n",
       "140           25800\n",
       "127           44000\n",
       "179           15000\n",
       "183           22000\n",
       "223           19000\n",
       "\n",
       "[64 rows x 1 columns]"
      ]
     },
     "execution_count": 637,
     "metadata": {},
     "output_type": "execute_result"
    }
   ],
   "source": [
    "y_test"
   ]
  },
  {
   "cell_type": "markdown",
   "id": "61424898",
   "metadata": {},
   "source": [
    "### Standardization"
   ]
  },
  {
   "cell_type": "code",
   "execution_count": 638,
   "id": "1f7aba47",
   "metadata": {},
   "outputs": [],
   "source": [
    "from sklearn.preprocessing import StandardScaler"
   ]
  },
  {
   "cell_type": "code",
   "execution_count": 639,
   "id": "173fb0ff",
   "metadata": {},
   "outputs": [],
   "source": [
    "sc = StandardScaler()"
   ]
  },
  {
   "cell_type": "code",
   "execution_count": 640,
   "id": "d1903876",
   "metadata": {},
   "outputs": [],
   "source": [
    "X_train_std = sc.fit_transform(X_train)"
   ]
  },
  {
   "cell_type": "code",
   "execution_count": 641,
   "id": "353f32b9",
   "metadata": {},
   "outputs": [
    {
     "data": {
      "text/plain": [
       "array([[-1.08438253, -1.01434046],\n",
       "       [-0.66267821, -0.68237449],\n",
       "       [-1.22495064, -1.01434046],\n",
       "       [ 1.02413906,  0.97745535],\n",
       "       [-0.80324632, -0.68237449],\n",
       "       [-1.22495064, -1.01434046],\n",
       "       [-0.381542  , -0.18442554],\n",
       "       [ 1.30527527,  2.63728519],\n",
       "       [ 0.18073042,  0.31352341],\n",
       "       [-1.22495064, -1.01434046],\n",
       "       [ 0.74300285,  0.14754043],\n",
       "       [ 1.16470716,  0.97745535],\n",
       "       [ 1.30527527,  2.63728519],\n",
       "       [-0.80324632, -0.68237449],\n",
       "       [ 1.30527527, -0.01844255],\n",
       "       [-0.2409739 , -0.01844255],\n",
       "       [-1.22495064, -0.18442554],\n",
       "       [-1.08438253, -0.84835748],\n",
       "       [-1.08438253, -0.84835748],\n",
       "       [-1.22495064, -1.01434046],\n",
       "       [-0.52211011, -0.51639151],\n",
       "       [ 0.88357095,  0.64548938],\n",
       "       [ 0.46186663,  0.64548938],\n",
       "       [-0.80324632, -0.68237449],\n",
       "       [ 0.18073042,  0.14754043],\n",
       "       [-0.381542  , -0.68237449],\n",
       "       [ 0.32129853,  0.4795064 ],\n",
       "       [-0.2409739 ,  0.14754043],\n",
       "       [-0.2409739 , -0.01844255],\n",
       "       [-0.52211011, -0.68237449],\n",
       "       [ 0.04016232, -0.18442554],\n",
       "       [-0.10040579, -0.51639151],\n",
       "       [ 0.46186663,  1.14343834],\n",
       "       [ 1.86754769,  0.81147237],\n",
       "       [-0.94381443, -0.84835748],\n",
       "       [-1.22495064, -1.01434046],\n",
       "       [-1.08438253, -0.84835748],\n",
       "       [ 1.02413906,  0.81147237],\n",
       "       [ 2.71095633,  3.46720012],\n",
       "       [-0.80324632, -0.68237449],\n",
       "       [ 0.60243474,  0.14754043],\n",
       "       [-1.08438253, -1.01434046],\n",
       "       [-0.381542  , -0.51639151],\n",
       "       [ 1.86754769,  0.4795064 ],\n",
       "       [-1.22495064, -1.01434046],\n",
       "       [-0.10040579, -0.01844255],\n",
       "       [-0.52211011, -0.35040852],\n",
       "       [-1.08438253, -1.01434046],\n",
       "       [-0.94381443, -0.84835748],\n",
       "       [ 0.32129853, -0.18442554],\n",
       "       [-0.80324632, -0.68237449],\n",
       "       [-0.10040579, -0.18442554],\n",
       "       [ 0.60243474,  0.14754043],\n",
       "       [-0.66267821, -0.68237449],\n",
       "       [-0.10040579, -0.01844255],\n",
       "       [ 0.46186663,  0.4795064 ],\n",
       "       [ 1.72697959,  2.96925116],\n",
       "       [-0.2409739 , -0.51639151],\n",
       "       [ 2.42982012,  2.13933624],\n",
       "       [-0.10040579, -0.01844255],\n",
       "       [ 0.60243474,  0.64548938],\n",
       "       [-1.08438253, -0.68237449],\n",
       "       [-0.52211011, -0.51639151],\n",
       "       [-0.381542  , -0.68237449],\n",
       "       [-1.22495064, -1.01434046],\n",
       "       [-0.381542  , -0.51639151],\n",
       "       [-1.08438253, -1.01434046],\n",
       "       [ 0.74300285,  0.81147237],\n",
       "       [-1.08438253, -1.01434046],\n",
       "       [ 1.16470716,  1.64138729],\n",
       "       [ 0.18073042,  0.31352341],\n",
       "       [-0.381542  , -0.35040852],\n",
       "       [-1.22495064, -1.01434046],\n",
       "       [-0.381542  , -0.51639151],\n",
       "       [ 2.71095633,  3.6331831 ],\n",
       "       [ 2.71095633,  2.96925116],\n",
       "       [ 0.74300285,  0.4795064 ],\n",
       "       [ 1.86754769,  2.30531923],\n",
       "       [-0.2409739 , -0.01844255],\n",
       "       [-0.52211011, -0.35040852],\n",
       "       [-1.08438253, -0.84835748],\n",
       "       [-0.52211011, -0.51639151],\n",
       "       [-0.80324632, -0.84835748],\n",
       "       [ 0.74300285, -0.51639151],\n",
       "       [-0.2409739 ,  0.14754043],\n",
       "       [-0.381542  , -0.68237449],\n",
       "       [ 0.18073042, -0.18442554],\n",
       "       [ 0.46186663,  0.14754043],\n",
       "       [ 1.44584338,  1.80737027],\n",
       "       [-0.94381443, -0.84835748],\n",
       "       [-1.08438253, -0.84835748],\n",
       "       [ 0.88357095,  0.31352341],\n",
       "       [-0.94381443, -1.01434046],\n",
       "       [ 2.42982012,  1.80737027],\n",
       "       [-0.10040579, -0.35040852],\n",
       "       [ 0.18073042, -0.35040852],\n",
       "       [-0.10040579, -0.01844255],\n",
       "       [ 0.04016232,  0.14754043],\n",
       "       [-0.381542  , -0.68237449],\n",
       "       [-0.381542  , -0.35040852],\n",
       "       [-0.10040579, -0.01844255],\n",
       "       [-0.2409739 , -0.51639151],\n",
       "       [ 1.02413906,  0.81147237],\n",
       "       [-1.22495064, -0.84835748],\n",
       "       [-0.80324632, -0.68237449],\n",
       "       [-1.22495064, -1.01434046],\n",
       "       [-0.52211011, -0.51639151],\n",
       "       [ 2.28925201,  2.13933624],\n",
       "       [-0.94381443, -0.84835748],\n",
       "       [-0.94381443, -0.68237449],\n",
       "       [ 1.16470716,  1.30942132],\n",
       "       [-1.08438253, -1.01434046],\n",
       "       [-0.80324632, -0.68237449],\n",
       "       [ 0.04016232, -0.35040852],\n",
       "       [-0.10040579, -0.01844255],\n",
       "       [-0.66267821, -0.68237449],\n",
       "       [-0.52211011, -0.35040852],\n",
       "       [-1.08438253, -1.01434046],\n",
       "       [ 1.72697959,  1.64138729],\n",
       "       [-0.381542  , -0.51639151],\n",
       "       [ 1.86754769,  1.97335326],\n",
       "       [ 1.58641148,  1.14343834],\n",
       "       [-1.08438253, -1.01434046],\n",
       "       [ 1.72697959,  1.4754043 ],\n",
       "       [-0.10040579, -0.01844255],\n",
       "       [-1.22495064, -1.01434046],\n",
       "       [-0.94381443, -1.01434046],\n",
       "       [-0.2409739 , -0.35040852],\n",
       "       [ 1.02413906,  0.97745535],\n",
       "       [ 0.60243474,  0.81147237],\n",
       "       [-0.381542  , -0.18442554],\n",
       "       [-0.94381443, -0.84835748],\n",
       "       [ 0.88357095,  0.4795064 ],\n",
       "       [-1.22495064, -1.01434046],\n",
       "       [-0.66267821, -0.68237449],\n",
       "       [ 1.02413906,  1.30942132],\n",
       "       [ 0.74300285,  0.81147237],\n",
       "       [ 0.74300285,  0.14754043],\n",
       "       [ 0.04016232,  0.14754043],\n",
       "       [ 1.44584338,  0.64548938],\n",
       "       [ 1.44584338,  0.14754043],\n",
       "       [-0.381542  , -0.35040852],\n",
       "       [-1.36551874, -1.01434046],\n",
       "       [-0.2409739 , -0.35040852],\n",
       "       [-0.80324632, -0.68237449],\n",
       "       [ 0.46186663,  0.14754043],\n",
       "       [-0.66267821, -0.68237449],\n",
       "       [-1.22495064, -1.01434046],\n",
       "       [ 1.58641148, -0.35040852],\n",
       "       [-0.94381443, -0.84835748],\n",
       "       [-0.66267821, -0.68237449],\n",
       "       [-1.22495064, -1.01434046],\n",
       "       [ 1.02413906, -0.35040852],\n",
       "       [-0.52211011, -0.35040852],\n",
       "       [-0.52211011, -0.35040852],\n",
       "       [-0.2409739 , -0.18442554],\n",
       "       [ 1.86754769,  1.97335326],\n",
       "       [-0.381542  , -0.35040852],\n",
       "       [-1.22495064, -1.01434046],\n",
       "       [ 1.86754769,  3.6331831 ],\n",
       "       [ 0.74300285,  0.97745535],\n",
       "       [-1.08438253, -0.84835748],\n",
       "       [-0.80324632, -0.68237449],\n",
       "       [-1.22495064, -1.01434046],\n",
       "       [ 1.72697959,  1.30942132],\n",
       "       [ 0.74300285,  0.64548938],\n",
       "       [-0.381542  , -0.51639151],\n",
       "       [-0.2409739 , -0.01844255],\n",
       "       [-0.10040579, -0.01844255],\n",
       "       [-1.22495064, -1.01434046],\n",
       "       [-0.381542  , -0.35040852],\n",
       "       [ 0.18073042, -0.01844255],\n",
       "       [ 0.60243474,  0.14754043],\n",
       "       [ 1.58641148,  0.4795064 ],\n",
       "       [ 1.30527527,  1.64138729],\n",
       "       [-0.94381443, -0.84835748],\n",
       "       [-0.94381443, -0.84835748],\n",
       "       [ 0.32129853, -0.01844255],\n",
       "       [ 0.04016232,  0.31352341],\n",
       "       [ 0.88357095,  0.64548938],\n",
       "       [-0.52211011, -0.51639151],\n",
       "       [ 0.60243474, -0.18442554],\n",
       "       [ 1.02413906,  1.64138729],\n",
       "       [-0.2409739 , -0.01844255],\n",
       "       [-0.10040579, -0.35040852],\n",
       "       [ 0.04016232, -0.01844255],\n",
       "       [-1.08438253, -1.01434046],\n",
       "       [-1.22495064, -1.01434046],\n",
       "       [ 1.44584338,  1.30942132],\n",
       "       [-0.10040579,  1.80737027],\n",
       "       [-0.94381443, -0.84835748],\n",
       "       [-0.80324632, -0.68237449],\n",
       "       [-0.94381443, -0.68237449],\n",
       "       [-0.10040579, -0.35040852],\n",
       "       [-0.2409739 , -0.01844255],\n",
       "       [ 2.14868391,  2.47130221],\n",
       "       [-1.08438253, -1.01434046],\n",
       "       [ 1.02413906,  1.14343834],\n",
       "       [-1.22495064, -1.01434046],\n",
       "       [-0.52211011, -0.51639151],\n",
       "       [-0.10040579, -0.01844255],\n",
       "       [ 0.32129853, -0.01844255],\n",
       "       [ 0.74300285,  0.97745535],\n",
       "       [-0.66267821, -0.51639151],\n",
       "       [ 0.32129853,  0.14754043],\n",
       "       [-0.10040579, -0.18442554],\n",
       "       [ 1.86754769,  1.14343834],\n",
       "       [ 1.16470716,  0.97745535],\n",
       "       [ 0.46186663,  0.64548938],\n",
       "       [ 1.30527527,  0.81147237],\n",
       "       [ 1.58641148,  0.81147237],\n",
       "       [ 1.02413906,  0.97745535],\n",
       "       [ 1.30527527,  0.97745535],\n",
       "       [-1.22495064, -1.01434046],\n",
       "       [-0.52211011, -0.51639151],\n",
       "       [ 2.0081158 ,  2.13933624],\n",
       "       [ 0.60243474, -0.01844255],\n",
       "       [-0.94381443, -0.68237449],\n",
       "       [-0.10040579,  0.14754043],\n",
       "       [-0.94381443, -0.68237449],\n",
       "       [-0.66267821, -0.68237449],\n",
       "       [-0.80324632, -0.68237449],\n",
       "       [-1.22495064, -1.01434046],\n",
       "       [-0.10040579, -0.01844255],\n",
       "       [-0.381542  , -0.68237449],\n",
       "       [ 1.86754769,  2.63728519],\n",
       "       [-0.80324632, -0.68237449],\n",
       "       [ 1.72697959,  2.47130221],\n",
       "       [ 0.60243474, -0.01844255],\n",
       "       [-1.22495064, -1.01434046],\n",
       "       [-1.22495064, -1.01434046],\n",
       "       [ 1.58641148,  1.30942132],\n",
       "       [ 0.18073042, -0.01844255],\n",
       "       [-0.66267821, -0.68237449],\n",
       "       [-0.66267821, -0.68237449],\n",
       "       [ 2.0081158 ,  2.13933624],\n",
       "       [-0.2409739 , -0.35040852],\n",
       "       [ 1.58641148,  0.31352341],\n",
       "       [-0.2409739 , -0.51639151],\n",
       "       [-1.08438253, -1.01434046],\n",
       "       [-0.66267821, -0.68237449],\n",
       "       [-1.08438253, -1.01434046],\n",
       "       [-0.381542  , -0.18442554],\n",
       "       [ 0.88357095,  1.4754043 ],\n",
       "       [ 0.18073042, -0.51639151],\n",
       "       [-0.52211011, -0.51639151],\n",
       "       [-0.2409739 , -0.18442554],\n",
       "       [ 0.32129853,  0.14754043],\n",
       "       [ 0.04016232, -0.18442554],\n",
       "       [-0.381542  , -0.68237449],\n",
       "       [-0.381542  , -0.18442554],\n",
       "       [-0.52211011, -0.51639151]])"
      ]
     },
     "execution_count": 641,
     "metadata": {},
     "output_type": "execute_result"
    }
   ],
   "source": [
    "X_train_std"
   ]
  },
  {
   "cell_type": "code",
   "execution_count": 642,
   "id": "bcef88d7",
   "metadata": {},
   "outputs": [],
   "source": [
    "X_test_std = sc.transform(X_test)"
   ]
  },
  {
   "cell_type": "code",
   "execution_count": 643,
   "id": "3c67bb56",
   "metadata": {},
   "outputs": [
    {
     "data": {
      "text/plain": [
       "array([[-1.22495064, -1.01434046],\n",
       "       [-0.2409739 , -0.35040852],\n",
       "       [-0.94381443, -0.68237449],\n",
       "       [-0.94381443, -0.84835748],\n",
       "       [-1.08438253, -1.01434046],\n",
       "       [-1.22495064, -1.01434046],\n",
       "       [-0.2409739 , -0.35040852],\n",
       "       [-0.381542  , -0.51639151],\n",
       "       [-0.381542  , -0.51639151],\n",
       "       [-0.10040579, -0.18442554],\n",
       "       [-0.2409739 , -0.35040852],\n",
       "       [ 1.02413906, -0.18442554],\n",
       "       [-0.10040579,  0.14754043],\n",
       "       [-0.94381443, -0.35040852],\n",
       "       [ 1.58641148,  2.13933624],\n",
       "       [-0.52211011, -0.35040852],\n",
       "       [-0.94381443, -0.84835748],\n",
       "       [ 0.60243474,  0.14754043],\n",
       "       [-1.22495064, -0.84835748],\n",
       "       [-0.381542  , -0.35040852],\n",
       "       [-1.36551874, -1.01434046],\n",
       "       [ 0.18073042, -0.01844255],\n",
       "       [-1.08438253, -1.01434046],\n",
       "       [-0.80324632, -0.68237449],\n",
       "       [-1.22495064, -1.01434046],\n",
       "       [ 0.60243474, -0.01844255],\n",
       "       [-0.381542  , -0.51639151],\n",
       "       [-0.52211011, -0.51639151],\n",
       "       [ 2.57038822,  3.13523415],\n",
       "       [-0.381542  , -0.18442554],\n",
       "       [-0.10040579, -0.35040852],\n",
       "       [-1.22495064, -1.01434046],\n",
       "       [-0.66267821, -0.51639151],\n",
       "       [-1.08438253, -1.01434046],\n",
       "       [ 0.32129853,  0.14754043],\n",
       "       [-0.66267821, -0.68237449],\n",
       "       [ 1.16470716,  1.4754043 ],\n",
       "       [-0.66267821, -0.68237449],\n",
       "       [ 1.16470716,  1.4754043 ],\n",
       "       [-1.08438253, -1.01434046],\n",
       "       [ 2.0081158 ,  2.13933624],\n",
       "       [ 1.72697959,  2.13933624],\n",
       "       [-0.94381443, -0.84835748],\n",
       "       [-1.22495064, -1.01434046],\n",
       "       [-0.66267821, -0.35040852],\n",
       "       [-0.80324632, -0.68237449],\n",
       "       [ 2.14868391,  2.96925116],\n",
       "       [-0.10040579,  1.30942132],\n",
       "       [-0.52211011, -0.51639151],\n",
       "       [-1.22495064, -1.01434046],\n",
       "       [ 1.30527527,  1.64138729],\n",
       "       [-1.22495064, -1.01434046],\n",
       "       [ 0.74300285,  0.4795064 ],\n",
       "       [ 0.74300285,  0.31352341],\n",
       "       [ 0.74300285,  0.14754043],\n",
       "       [-0.52211011, -0.51639151],\n",
       "       [ 0.04016232, -0.18442554],\n",
       "       [-0.2409739 , -0.35040852],\n",
       "       [-1.08438253, -0.84835748],\n",
       "       [-0.2409739 , -0.01844255],\n",
       "       [ 2.42982012,  0.97745535],\n",
       "       [-0.66267821, -0.68237449],\n",
       "       [ 0.60243474, -0.18442554],\n",
       "       [-0.94381443, -0.84835748]])"
      ]
     },
     "execution_count": 643,
     "metadata": {},
     "output_type": "execute_result"
    }
   ],
   "source": [
    "X_test_std"
   ]
  },
  {
   "cell_type": "code",
   "execution_count": 644,
   "id": "fecc4587",
   "metadata": {},
   "outputs": [],
   "source": [
    "import joblib"
   ]
  },
  {
   "cell_type": "code",
   "execution_count": 645,
   "id": "6300cdcd",
   "metadata": {},
   "outputs": [
    {
     "data": {
      "text/plain": [
       "['C:\\\\Users\\\\DELL\\\\Downloads\\\\hr_salary_prediction\\\\model\\\\sc.sav']"
      ]
     },
     "execution_count": 645,
     "metadata": {},
     "output_type": "execute_result"
    }
   ],
   "source": [
    "joblib.dump(sc,r'C:\\Users\\DELL\\Downloads\\hr_salary_prediction\\model\\sc.sav')"
   ]
  },
  {
   "cell_type": "markdown",
   "id": "e0f662d7",
   "metadata": {},
   "source": [
    "### Model Building"
   ]
  },
  {
   "cell_type": "code",
   "execution_count": 646,
   "id": "dcf1ff0c",
   "metadata": {},
   "outputs": [],
   "source": [
    "from sklearn.linear_model import LinearRegression"
   ]
  },
  {
   "cell_type": "code",
   "execution_count": 647,
   "id": "ee154f89",
   "metadata": {},
   "outputs": [],
   "source": [
    "lr = LinearRegression()"
   ]
  },
  {
   "cell_type": "code",
   "execution_count": 648,
   "id": "6a5399c9",
   "metadata": {},
   "outputs": [
    {
     "data": {
      "text/html": [
       "<style>#sk-container-id-35 {color: black;background-color: white;}#sk-container-id-35 pre{padding: 0;}#sk-container-id-35 div.sk-toggleable {background-color: white;}#sk-container-id-35 label.sk-toggleable__label {cursor: pointer;display: block;width: 100%;margin-bottom: 0;padding: 0.3em;box-sizing: border-box;text-align: center;}#sk-container-id-35 label.sk-toggleable__label-arrow:before {content: \"▸\";float: left;margin-right: 0.25em;color: #696969;}#sk-container-id-35 label.sk-toggleable__label-arrow:hover:before {color: black;}#sk-container-id-35 div.sk-estimator:hover label.sk-toggleable__label-arrow:before {color: black;}#sk-container-id-35 div.sk-toggleable__content {max-height: 0;max-width: 0;overflow: hidden;text-align: left;background-color: #f0f8ff;}#sk-container-id-35 div.sk-toggleable__content pre {margin: 0.2em;color: black;border-radius: 0.25em;background-color: #f0f8ff;}#sk-container-id-35 input.sk-toggleable__control:checked~div.sk-toggleable__content {max-height: 200px;max-width: 100%;overflow: auto;}#sk-container-id-35 input.sk-toggleable__control:checked~label.sk-toggleable__label-arrow:before {content: \"▾\";}#sk-container-id-35 div.sk-estimator input.sk-toggleable__control:checked~label.sk-toggleable__label {background-color: #d4ebff;}#sk-container-id-35 div.sk-label input.sk-toggleable__control:checked~label.sk-toggleable__label {background-color: #d4ebff;}#sk-container-id-35 input.sk-hidden--visually {border: 0;clip: rect(1px 1px 1px 1px);clip: rect(1px, 1px, 1px, 1px);height: 1px;margin: -1px;overflow: hidden;padding: 0;position: absolute;width: 1px;}#sk-container-id-35 div.sk-estimator {font-family: monospace;background-color: #f0f8ff;border: 1px dotted black;border-radius: 0.25em;box-sizing: border-box;margin-bottom: 0.5em;}#sk-container-id-35 div.sk-estimator:hover {background-color: #d4ebff;}#sk-container-id-35 div.sk-parallel-item::after {content: \"\";width: 100%;border-bottom: 1px solid gray;flex-grow: 1;}#sk-container-id-35 div.sk-label:hover label.sk-toggleable__label {background-color: #d4ebff;}#sk-container-id-35 div.sk-serial::before {content: \"\";position: absolute;border-left: 1px solid gray;box-sizing: border-box;top: 0;bottom: 0;left: 50%;z-index: 0;}#sk-container-id-35 div.sk-serial {display: flex;flex-direction: column;align-items: center;background-color: white;padding-right: 0.2em;padding-left: 0.2em;position: relative;}#sk-container-id-35 div.sk-item {position: relative;z-index: 1;}#sk-container-id-35 div.sk-parallel {display: flex;align-items: stretch;justify-content: center;background-color: white;position: relative;}#sk-container-id-35 div.sk-item::before, #sk-container-id-35 div.sk-parallel-item::before {content: \"\";position: absolute;border-left: 1px solid gray;box-sizing: border-box;top: 0;bottom: 0;left: 50%;z-index: -1;}#sk-container-id-35 div.sk-parallel-item {display: flex;flex-direction: column;z-index: 1;position: relative;background-color: white;}#sk-container-id-35 div.sk-parallel-item:first-child::after {align-self: flex-end;width: 50%;}#sk-container-id-35 div.sk-parallel-item:last-child::after {align-self: flex-start;width: 50%;}#sk-container-id-35 div.sk-parallel-item:only-child::after {width: 0;}#sk-container-id-35 div.sk-dashed-wrapped {border: 1px dashed gray;margin: 0 0.4em 0.5em 0.4em;box-sizing: border-box;padding-bottom: 0.4em;background-color: white;}#sk-container-id-35 div.sk-label label {font-family: monospace;font-weight: bold;display: inline-block;line-height: 1.2em;}#sk-container-id-35 div.sk-label-container {text-align: center;}#sk-container-id-35 div.sk-container {/* jupyter's `normalize.less` sets `[hidden] { display: none; }` but bootstrap.min.css set `[hidden] { display: none !important; }` so we also need the `!important` here to be able to override the default hidden behavior on the sphinx rendered scikit-learn.org. See: https://github.com/scikit-learn/scikit-learn/issues/21755 */display: inline-block !important;position: relative;}#sk-container-id-35 div.sk-text-repr-fallback {display: none;}</style><div id=\"sk-container-id-35\" class=\"sk-top-container\"><div class=\"sk-text-repr-fallback\"><pre>LinearRegression()</pre><b>In a Jupyter environment, please rerun this cell to show the HTML representation or trust the notebook. <br />On GitHub, the HTML representation is unable to render, please try loading this page with nbviewer.org.</b></div><div class=\"sk-container\" hidden><div class=\"sk-item\"><div class=\"sk-estimator sk-toggleable\"><input class=\"sk-toggleable__control sk-hidden--visually\" id=\"sk-estimator-id-35\" type=\"checkbox\" checked><label for=\"sk-estimator-id-35\" class=\"sk-toggleable__label sk-toggleable__label-arrow\">LinearRegression</label><div class=\"sk-toggleable__content\"><pre>LinearRegression()</pre></div></div></div></div></div>"
      ],
      "text/plain": [
       "LinearRegression()"
      ]
     },
     "execution_count": 648,
     "metadata": {},
     "output_type": "execute_result"
    }
   ],
   "source": [
    "lr.fit(X_train_std, y_train)"
   ]
  },
  {
   "cell_type": "code",
   "execution_count": 649,
   "id": "b04bef8e",
   "metadata": {},
   "outputs": [],
   "source": [
    "y_pred_lr = lr.predict(X_test_std)"
   ]
  },
  {
   "cell_type": "code",
   "execution_count": 650,
   "id": "469d7077",
   "metadata": {},
   "outputs": [
    {
     "data": {
      "text/plain": [
       "array([[15891.77922345],\n",
       "       [22364.70783732],\n",
       "       [18942.56252642],\n",
       "       [17540.95821091],\n",
       "       [16015.56655942],\n",
       "       [15891.77922345],\n",
       "       [22364.70783732],\n",
       "       [20839.31618584],\n",
       "       [20839.31618584],\n",
       "       [23890.09948881],\n",
       "       [22364.70783732],\n",
       "       [24880.39817661],\n",
       "       [26693.30811984],\n",
       "       [21745.77115745],\n",
       "       [44998.0079377 ],\n",
       "       [22117.13316537],\n",
       "       [17540.95821091],\n",
       "       [27312.24479971],\n",
       "       [17293.38353896],\n",
       "       [22240.92050135],\n",
       "       [15767.99188747],\n",
       "       [25539.27847628],\n",
       "       [16015.56655942],\n",
       "       [19066.3498624 ],\n",
       "       [15891.77922345],\n",
       "       [25910.6404842 ],\n",
       "       [20839.31618584],\n",
       "       [20715.52884986],\n",
       "       [54274.14518261],\n",
       "       [23642.52481686],\n",
       "       [22488.4951733 ],\n",
       "       [15891.77922345],\n",
       "       [20591.74151389],\n",
       "       [16015.56655942],\n",
       "       [27064.67012776],\n",
       "       [19190.13719837],\n",
       "       [39020.22866772],\n",
       "       [19190.13719837],\n",
       "       [39020.22866772],\n",
       "       [16015.56655942],\n",
       "       [45369.36994563],\n",
       "       [45121.79527368],\n",
       "       [17540.95821091],\n",
       "       [15891.77922345],\n",
       "       [21993.3458294 ],\n",
       "       [19066.3498624 ],\n",
       "       [52501.17885917],\n",
       "       [36504.53832843],\n",
       "       [20715.52884986],\n",
       "       [15891.77922345],\n",
       "       [40545.62031921],\n",
       "       [15891.77922345],\n",
       "       [30239.24076672],\n",
       "       [28837.6364512 ],\n",
       "       [27436.03213569],\n",
       "       [20715.52884986],\n",
       "       [24013.88682479],\n",
       "       [22364.70783732],\n",
       "       [17417.17087493],\n",
       "       [25167.91646835],\n",
       "       [35929.50174495],\n",
       "       [19190.13719837],\n",
       "       [24509.03616869],\n",
       "       [17540.95821091]])"
      ]
     },
     "execution_count": 650,
     "metadata": {},
     "output_type": "execute_result"
    }
   ],
   "source": [
    "y_pred_lr"
   ]
  },
  {
   "cell_type": "code",
   "execution_count": 651,
   "id": "ae202876",
   "metadata": {},
   "outputs": [
    {
     "name": "stdout",
     "output_type": "stream",
     "text": [
      "[[ 880.62178166 8444.26506638]]\n"
     ]
    }
   ],
   "source": [
    "# calculating the coefficients\n",
    "print(lr.coef_)"
   ]
  },
  {
   "cell_type": "code",
   "execution_count": 652,
   "id": "6c89d530",
   "metadata": {},
   "outputs": [
    {
     "name": "stdout",
     "output_type": "stream",
     "text": [
      "[25535.85714286]\n"
     ]
    }
   ],
   "source": [
    "# calculating the intercept\n",
    "print(lr.intercept_)"
   ]
  },
  {
   "cell_type": "markdown",
   "id": "bd41c902",
   "metadata": {},
   "source": [
    "### Checking for accuracy with linear regression"
   ]
  },
  {
   "cell_type": "code",
   "execution_count": 653,
   "id": "ac82d268",
   "metadata": {},
   "outputs": [],
   "source": [
    "from sklearn.metrics import r2_score, mean_absolute_error, mean_squared_error"
   ]
  },
  {
   "cell_type": "code",
   "execution_count": 654,
   "id": "bba25763",
   "metadata": {},
   "outputs": [
    {
     "name": "stdout",
     "output_type": "stream",
     "text": [
      "R2 score: 0.5824511394241831\n",
      "Mean Absolute Error: 5651.37541223414\n",
      "Mean Squared Error: 7698.154149475987\n"
     ]
    }
   ],
   "source": [
    "print(\"R2 score:\",r2_score(y_test,y_pred_lr))\n",
    "print(\"Mean Absolute Error:\",mean_absolute_error(y_test,y_pred_lr))\n",
    "print(\"Mean Squared Error:\",np.sqrt(mean_squared_error(y_test,y_pred_lr)))"
   ]
  },
  {
   "cell_type": "markdown",
   "id": "6988d5b4",
   "metadata": {},
   "source": [
    "Since the accuracy's too low, we are moving to check the accuracy with RandomForestRegressor "
   ]
  },
  {
   "cell_type": "markdown",
   "id": "62f5a5ad",
   "metadata": {},
   "source": [
    "## Prediction using RandomForestRegressor"
   ]
  },
  {
   "cell_type": "code",
   "execution_count": 655,
   "id": "d0c8ec0c",
   "metadata": {},
   "outputs": [],
   "source": [
    "from sklearn.ensemble import RandomForestRegressor\n",
    "rf = RandomForestRegressor(n_estimators=1000)"
   ]
  },
  {
   "cell_type": "code",
   "execution_count": 656,
   "id": "b6b176b9",
   "metadata": {},
   "outputs": [
    {
     "name": "stderr",
     "output_type": "stream",
     "text": [
      "C:\\Users\\DELL\\AppData\\Local\\Temp\\ipykernel_2876\\1676408278.py:1: DataConversionWarning: A column-vector y was passed when a 1d array was expected. Please change the shape of y to (n_samples,), for example using ravel().\n",
      "  rf.fit(X_train_std, y_train)\n"
     ]
    },
    {
     "data": {
      "text/html": [
       "<style>#sk-container-id-36 {color: black;background-color: white;}#sk-container-id-36 pre{padding: 0;}#sk-container-id-36 div.sk-toggleable {background-color: white;}#sk-container-id-36 label.sk-toggleable__label {cursor: pointer;display: block;width: 100%;margin-bottom: 0;padding: 0.3em;box-sizing: border-box;text-align: center;}#sk-container-id-36 label.sk-toggleable__label-arrow:before {content: \"▸\";float: left;margin-right: 0.25em;color: #696969;}#sk-container-id-36 label.sk-toggleable__label-arrow:hover:before {color: black;}#sk-container-id-36 div.sk-estimator:hover label.sk-toggleable__label-arrow:before {color: black;}#sk-container-id-36 div.sk-toggleable__content {max-height: 0;max-width: 0;overflow: hidden;text-align: left;background-color: #f0f8ff;}#sk-container-id-36 div.sk-toggleable__content pre {margin: 0.2em;color: black;border-radius: 0.25em;background-color: #f0f8ff;}#sk-container-id-36 input.sk-toggleable__control:checked~div.sk-toggleable__content {max-height: 200px;max-width: 100%;overflow: auto;}#sk-container-id-36 input.sk-toggleable__control:checked~label.sk-toggleable__label-arrow:before {content: \"▾\";}#sk-container-id-36 div.sk-estimator input.sk-toggleable__control:checked~label.sk-toggleable__label {background-color: #d4ebff;}#sk-container-id-36 div.sk-label input.sk-toggleable__control:checked~label.sk-toggleable__label {background-color: #d4ebff;}#sk-container-id-36 input.sk-hidden--visually {border: 0;clip: rect(1px 1px 1px 1px);clip: rect(1px, 1px, 1px, 1px);height: 1px;margin: -1px;overflow: hidden;padding: 0;position: absolute;width: 1px;}#sk-container-id-36 div.sk-estimator {font-family: monospace;background-color: #f0f8ff;border: 1px dotted black;border-radius: 0.25em;box-sizing: border-box;margin-bottom: 0.5em;}#sk-container-id-36 div.sk-estimator:hover {background-color: #d4ebff;}#sk-container-id-36 div.sk-parallel-item::after {content: \"\";width: 100%;border-bottom: 1px solid gray;flex-grow: 1;}#sk-container-id-36 div.sk-label:hover label.sk-toggleable__label {background-color: #d4ebff;}#sk-container-id-36 div.sk-serial::before {content: \"\";position: absolute;border-left: 1px solid gray;box-sizing: border-box;top: 0;bottom: 0;left: 50%;z-index: 0;}#sk-container-id-36 div.sk-serial {display: flex;flex-direction: column;align-items: center;background-color: white;padding-right: 0.2em;padding-left: 0.2em;position: relative;}#sk-container-id-36 div.sk-item {position: relative;z-index: 1;}#sk-container-id-36 div.sk-parallel {display: flex;align-items: stretch;justify-content: center;background-color: white;position: relative;}#sk-container-id-36 div.sk-item::before, #sk-container-id-36 div.sk-parallel-item::before {content: \"\";position: absolute;border-left: 1px solid gray;box-sizing: border-box;top: 0;bottom: 0;left: 50%;z-index: -1;}#sk-container-id-36 div.sk-parallel-item {display: flex;flex-direction: column;z-index: 1;position: relative;background-color: white;}#sk-container-id-36 div.sk-parallel-item:first-child::after {align-self: flex-end;width: 50%;}#sk-container-id-36 div.sk-parallel-item:last-child::after {align-self: flex-start;width: 50%;}#sk-container-id-36 div.sk-parallel-item:only-child::after {width: 0;}#sk-container-id-36 div.sk-dashed-wrapped {border: 1px dashed gray;margin: 0 0.4em 0.5em 0.4em;box-sizing: border-box;padding-bottom: 0.4em;background-color: white;}#sk-container-id-36 div.sk-label label {font-family: monospace;font-weight: bold;display: inline-block;line-height: 1.2em;}#sk-container-id-36 div.sk-label-container {text-align: center;}#sk-container-id-36 div.sk-container {/* jupyter's `normalize.less` sets `[hidden] { display: none; }` but bootstrap.min.css set `[hidden] { display: none !important; }` so we also need the `!important` here to be able to override the default hidden behavior on the sphinx rendered scikit-learn.org. See: https://github.com/scikit-learn/scikit-learn/issues/21755 */display: inline-block !important;position: relative;}#sk-container-id-36 div.sk-text-repr-fallback {display: none;}</style><div id=\"sk-container-id-36\" class=\"sk-top-container\"><div class=\"sk-text-repr-fallback\"><pre>RandomForestRegressor(n_estimators=1000)</pre><b>In a Jupyter environment, please rerun this cell to show the HTML representation or trust the notebook. <br />On GitHub, the HTML representation is unable to render, please try loading this page with nbviewer.org.</b></div><div class=\"sk-container\" hidden><div class=\"sk-item\"><div class=\"sk-estimator sk-toggleable\"><input class=\"sk-toggleable__control sk-hidden--visually\" id=\"sk-estimator-id-36\" type=\"checkbox\" checked><label for=\"sk-estimator-id-36\" class=\"sk-toggleable__label sk-toggleable__label-arrow\">RandomForestRegressor</label><div class=\"sk-toggleable__content\"><pre>RandomForestRegressor(n_estimators=1000)</pre></div></div></div></div></div>"
      ],
      "text/plain": [
       "RandomForestRegressor(n_estimators=1000)"
      ]
     },
     "execution_count": 656,
     "metadata": {},
     "output_type": "execute_result"
    }
   ],
   "source": [
    "rf.fit(X_train_std, y_train)"
   ]
  },
  {
   "cell_type": "code",
   "execution_count": 657,
   "id": "a628c299",
   "metadata": {},
   "outputs": [],
   "source": [
    "y_pred_rf = rf.predict(X_test_std)"
   ]
  },
  {
   "cell_type": "markdown",
   "id": "2ad826e6",
   "metadata": {},
   "source": [
    "# Checking the accuracy with RandomForestRegressor"
   ]
  },
  {
   "cell_type": "code",
   "execution_count": 658,
   "id": "fc42647d",
   "metadata": {},
   "outputs": [
    {
     "name": "stdout",
     "output_type": "stream",
     "text": [
      "R2 score: 0.60847000350155\n",
      "Mean Absolute Error: 5396.405949939117\n",
      "Mean Squared Error: 7454.447699107776\n"
     ]
    }
   ],
   "source": [
    "print(\"R2 score:\",r2_score(y_test,y_pred_rf))\n",
    "print(\"Mean Absolute Error:\",mean_absolute_error(y_test,y_pred_rf))\n",
    "print(\"Mean Squared Error:\",np.sqrt(mean_squared_error(y_test,y_pred_rf)))"
   ]
  },
  {
   "cell_type": "code",
   "execution_count": 663,
   "id": "ca216abd",
   "metadata": {},
   "outputs": [
    {
     "name": "stdout",
     "output_type": "stream",
     "text": [
      "Salary predicted with Linear Regression: [[54234.4231874]]\n",
      "Salary predicted with Random Forest Regressor: [33972.06666667]\n"
     ]
    }
   ],
   "source": [
    "print(\"Salary predicted with Linear Regression:\",lr.predict([[23,1]])) \n",
    "print(\"Salary predicted with Random Forest Regressor:\",rf.predict([[23,1]])) "
   ]
  },
  {
   "cell_type": "markdown",
   "id": "c75c2882",
   "metadata": {},
   "source": [
    "We can see that Random Forest Regression algorithm is better in accuracy and performance compared to Linear Regression Algorithm"
   ]
  },
  {
   "cell_type": "markdown",
   "id": "5d4bcc9e",
   "metadata": {},
   "source": [
    "## Saving the models"
   ]
  },
  {
   "cell_type": "code",
   "execution_count": 379,
   "id": "21e7c926",
   "metadata": {},
   "outputs": [
    {
     "data": {
      "text/plain": [
       "['C:\\\\Users\\\\DELL\\\\Downloads\\\\hr_salary_prediction\\\\model\\\\linear_regression_model.sav']"
      ]
     },
     "execution_count": 379,
     "metadata": {},
     "output_type": "execute_result"
    }
   ],
   "source": [
    "joblib.dump(lr,r'C:\\Users\\DELL\\Downloads\\hr_salary_prediction\\model\\linear_regression_model.sav')"
   ]
  },
  {
   "cell_type": "code",
   "execution_count": 380,
   "id": "2f423f6b",
   "metadata": {},
   "outputs": [
    {
     "data": {
      "text/plain": [
       "['C:\\\\Users\\\\DELL\\\\Downloads\\\\hr_salary_prediction\\\\model\\\\random_forest_regressor_model.sav']"
      ]
     },
     "execution_count": 380,
     "metadata": {},
     "output_type": "execute_result"
    }
   ],
   "source": [
    "joblib.dump(rf,r'C:\\Users\\DELL\\Downloads\\hr_salary_prediction\\model\\random_forest_regressor_model.sav')"
   ]
  },
  {
   "cell_type": "markdown",
   "id": "75448b3b",
   "metadata": {},
   "source": [
    "Saving the linear regression model and random regression model into a separate folder to deploy the trained models into web application"
   ]
  },
  {
   "cell_type": "code",
   "execution_count": null,
   "id": "b31f8980",
   "metadata": {},
   "outputs": [],
   "source": []
  },
  {
   "cell_type": "code",
   "execution_count": null,
   "id": "caaf7d4e",
   "metadata": {},
   "outputs": [],
   "source": []
  },
  {
   "cell_type": "code",
   "execution_count": null,
   "id": "ec83ab82",
   "metadata": {},
   "outputs": [],
   "source": []
  },
  {
   "cell_type": "code",
   "execution_count": null,
   "id": "56ae9336",
   "metadata": {},
   "outputs": [],
   "source": []
  },
  {
   "cell_type": "code",
   "execution_count": null,
   "id": "30dabb45",
   "metadata": {},
   "outputs": [],
   "source": []
  },
  {
   "cell_type": "code",
   "execution_count": null,
   "id": "0a8aaeff",
   "metadata": {},
   "outputs": [],
   "source": []
  }
 ],
 "metadata": {
  "kernelspec": {
   "display_name": "Python 3 (ipykernel)",
   "language": "python",
   "name": "python3"
  },
  "language_info": {
   "codemirror_mode": {
    "name": "ipython",
    "version": 3
   },
   "file_extension": ".py",
   "mimetype": "text/x-python",
   "name": "python",
   "nbconvert_exporter": "python",
   "pygments_lexer": "ipython3",
   "version": "3.10.9"
  }
 },
 "nbformat": 4,
 "nbformat_minor": 5
}
